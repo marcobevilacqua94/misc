{
 "cells": [
  {
   "cell_type": "code",
   "execution_count": 1,
   "metadata": {
    "id": "Y0pXVJ_Ph-fA"
   },
   "outputs": [],
   "source": [
    "import sys\n",
    "from acouchbase.cluster import Cluster\n",
    "from couchbase.options import ClusterOptions, SearchOptions, QueryOptions\n",
    "from couchbase.auth import PasswordAuthenticator\n",
    "import couchbase.collection\n",
    "import couchbase.subdocument as SD\n",
    "from couchbase.durability import ServerDurability, Durability\n",
    "from datetime import timedelta\n",
    "from couchbase.exceptions import CouchbaseException\n",
    "from couchbase.search import QueryStringQuery, MatchQuery, SearchQuery, PrefixQuery, HighlightStyle, SortField, \\\n",
    "  SortScore, TermFacet\n",
    "\n"
   ]
  },
  {
   "cell_type": "code",
   "execution_count": 2,
   "metadata": {
    "id": "5lBB2ACTgKBc"
   },
   "outputs": [],
   "source": [
    "# Update this to your cluster\n",
    "# Add permission to all ips and add a user database access\n",
    "username = \"Administrator\"\n",
    "password = \"password\"\n",
    "endpoint = \"localhost\"\n",
    "# User Input ends here."
   ]
  },
  {
   "cell_type": "code",
   "execution_count": 3,
   "metadata": {
    "colab": {
     "base_uri": "https://localhost:8080/",
     "height": 381
    },
    "id": "nK7jXMSNRHnv",
    "outputId": "07342db5-cfaf-4586-e972-b32bbe0270f2"
   },
   "outputs": [],
   "source": [
    "# Get a reference to our cluster\n",
    "# NOTE: For TLS/SSL connection use 'couchbases://<your-ip-address>' instead\n",
    "cluster = Cluster('couchbases://' + endpoint + '?ssl=no_verify', ClusterOptions(PasswordAuthenticator(username,password)))\n",
    "bucket = cluster.bucket('travel-sample')\n",
    "collection = bucket.default_collection()"
   ]
  },
  {
   "cell_type": "code",
   "execution_count": 4,
   "metadata": {
    "id": "xQuiAd_LTy4w"
   },
   "outputs": [
    {
     "name": "stdout",
     "output_type": "stream",
     "text": [
      "{'id': 10, 'type': 'airline', 'name': '40-Mile Air', 'iata': 'Q5', 'icao': 'MLA', 'callsign': 'MILE-AIR', 'country': 'Canada'}\n"
     ]
    }
   ],
   "source": [
    "\n",
    "try:\n",
    "    result = await collection.get('airline_10')\n",
    "    print(result.value)\n",
    "\n",
    "except:\n",
    "    print(\"exception:\", sys.exc_info()[0])"
   ]
  },
  {
   "cell_type": "code",
   "execution_count": 5,
   "metadata": {
    "id": "efJS-aA_UL0z"
   },
   "outputs": [
    {
     "name": "stdout",
     "output_type": "stream",
     "text": [
      "exception: <class 'TypeError'>\n"
     ]
    }
   ],
   "source": [
    "query = \"\"\"\n",
    "  SELECT h.name, h.city, h.state\n",
    "  FROM `travel-sample` h\n",
    "  WHERE h.type = 'hotel'\n",
    "    AND h.city = 'Malibu' LIMIT 5\n",
    "\"\"\"\n",
    "\n",
    "try:\n",
    "    result = await cluster.query(query)\n",
    "\n",
    "    for row in result:\n",
    "    # each row is an instance of the query call\n",
    "        name = row['name']\n",
    "        city = row['city']\n",
    "        print(\"hotel: \", name + city)\n",
    "\n",
    "except:\n",
    "    print(\"exception:\", sys.exc_info()[0])\n"
   ]
  },
  {
   "cell_type": "code",
   "execution_count": 6,
   "metadata": {
    "id": "CGHYb7IHcBOI"
   },
   "outputs": [
    {
     "name": "stdout",
     "output_type": "stream",
     "text": [
      "exception: <class 'TypeError'>\n"
     ]
    }
   ],
   "source": [
    "query = \"\"\"\n",
    "  SELECT h.name, h.city, h.state\n",
    "  FROM `travel-sample` h\n",
    "  WHERE h.type = $type\n",
    "    AND h.city = $city LIMIT 5\n",
    "\"\"\"\n",
    "\n",
    "try:\n",
    "    result = await cluster.query(query, type='hotel', city='Malibu')\n",
    "\n",
    "    for row in result:\n",
    "        name = row['name']\n",
    "        city = row['city']\n",
    "        print(\"Hotel: \" + name + \", \" + city)\n",
    "\n",
    "except:\n",
    "    print(\"exception:\", sys.exc_info()[0])\n"
   ]
  },
  {
   "cell_type": "code",
   "execution_count": 7,
   "metadata": {
    "id": "CHe6EPp2cEu9"
   },
   "outputs": [
    {
     "name": "stdout",
     "output_type": "stream",
     "text": [
      "exception: <class 'TypeError'>\n"
     ]
    }
   ],
   "source": [
    "query = \"\"\"\n",
    "  SELECT h.name, h.city, h.state\n",
    "  FROM `travel-sample` h\n",
    "  WHERE h.type = $1\n",
    "    AND h.city = $2 LIMIT 5\n",
    "\"\"\"\n",
    "\n",
    "try:\n",
    "    result = await cluster.query(query, 'hotel', 'Malibu')\n",
    "\n",
    "    for row in result:\n",
    "    # each row is an instance of the query call\n",
    "        name = row['name']\n",
    "        city = row['city']\n",
    "        print(\"Hotel: \" + name + \", \" + city)\n",
    "\n",
    "except:\n",
    "    print(\"exception:\", sys.exc_info()[0])"
   ]
  },
  {
   "cell_type": "code",
   "execution_count": 8,
   "metadata": {
    "id": "oX6EbBhQcPJK"
   },
   "outputs": [
    {
     "name": "stdout",
     "output_type": "stream",
     "text": [
      "exception: <class 'TypeError'>\n"
     ]
    }
   ],
   "source": [
    "query = \"\"\"\n",
    "  SELECT h.name, h.city, h.state\n",
    "  FROM `travel-sample` h\n",
    "  WHERE h.type = $1\n",
    "    AND h.city = $2 LIMIT 5\n",
    "\"\"\"\n",
    "\n",
    "try:\n",
    "    result = await cluster.query(query, 'hotel', 'Malibu')\n",
    "\n",
    "    for row in result:\n",
    "    # each row is an instance of the query call\n",
    "        name = row['name']\n",
    "        city = row['city']\n",
    "        print(\"Hotel: \" + name + \", \" + city)\n",
    "\n",
    "except:\n",
    "    print(\"exception:\", sys.exc_info()[0])\n"
   ]
  },
  {
   "cell_type": "code",
   "execution_count": 9,
   "metadata": {
    "id": "P6PC1qpserGn"
   },
   "outputs": [
    {
     "name": "stdout",
     "output_type": "stream",
     "text": [
      "country: Canada\n"
     ]
    }
   ],
   "source": [
    "try:\n",
    "    result = await collection.lookup_in('airline_10', [SD.get('country')])\n",
    "    country = result.content_as[str](0) # \"United Kingdom\"\n",
    "    print(\"country:\", country)\n",
    "\n",
    "except:\n",
    "    print(\"exception:\", sys.exc_info()[0])\n"
   ]
  },
  {
   "cell_type": "code",
   "execution_count": 10,
   "metadata": {
    "id": "TTzZo45DfAHt"
   },
   "outputs": [
    {
     "name": "stdout",
     "output_type": "stream",
     "text": [
      "Sub-doc before:\n",
      "country: Canada\n",
      "Sub-doc after:\n",
      "country: Canada\n"
     ]
    }
   ],
   "source": [
    "try:\n",
    "    result = await collection.lookup_in('airline_10', [SD.get('country')])\n",
    "    country = result.content_as[str](0) # \"United Kingdom\"\n",
    "    print(\"Sub-doc before:\")\n",
    "    print(\"country:\", country)\n",
    "\n",
    "except:\n",
    "    print(\"exception:\", sys.exc_info()[0])\n",
    "\n",
    "try:\n",
    "    await collection.mutate_in(\"airline_10\", [SD.upsert(\"country\", \"Canada\")])\n",
    "\n",
    "except:\n",
    "    print(\"exception:\", sys.exc_info()[0])\n",
    "\n",
    "try:\n",
    "    result = await collection.lookup_in('airline_10', [SD.get('country')])\n",
    "    country = result.content_as[str](0) # \"United Kingdom\"\n",
    "    print(\"Sub-doc after:\")\n",
    "    print(\"country:\", country)\n",
    "\n",
    "except:\n",
    "    print(\"exception:\", sys.exc_info()[0])"
   ]
  },
  {
   "cell_type": "code",
   "execution_count": 11,
   "metadata": {
    "id": "Tjn46T1AfEJn"
   },
   "outputs": [
    {
     "name": "stdout",
     "output_type": "stream",
     "text": [
      "UPSERT SUCCESS\n",
      "cas result: 1680093052857745408\n",
      "name: Icelandair\n"
     ]
    }
   ],
   "source": [
    "try:\n",
    "    document = dict(\n",
    "        country=\"Iceland\", callsign=\"ICEAIR\", iata=\"FI\", icao=\"ICE\",\n",
    "        id=123, name=\"Icelandair\", type=\"airline\"\n",
    "      )\n",
    "    result = await collection.upsert(\n",
    "        'airline_123',\n",
    "        document,\n",
    "        expiry=timedelta(minutes=1)\n",
    "      )\n",
    "    print(\"UPSERT SUCCESS\")\n",
    "    print(\"cas result:\", result.cas)\n",
    "except:\n",
    "    print(\"exception:\", sys.exc_info())\n",
    "\n",
    "try:\n",
    "    result = await collection.lookup_in('airline_123', [SD.get('name')])\n",
    "    name = result.content_as[str](0) # \"United Kingdom\"\n",
    "    print(\"name:\", name)\n",
    "\n",
    "except:\n",
    "    print(\"exception:\", sys.exc_info()[0])\n"
   ]
  },
  {
   "cell_type": "code",
   "execution_count": null,
   "metadata": {},
   "outputs": [],
   "source": []
  },
  {
   "cell_type": "code",
   "execution_count": 12,
   "metadata": {},
   "outputs": [
    {
     "data": {
      "text/plain": [
       "b'{\"error\":\"rest_create_index: error creating index: ftsindex, err: manager_api: cannot create index because an index with the same name already exists: ftsindex\",\"request\":{\"name\":\"ftsindex\",\"params\":{\"doc_config\":{\"docid_prefix_delim\":\"\",\"docid_regexp\":\"\",\"mode\":\"scope.collection.type_field\",\"type_field\":\"type\"},\"mapping\":{\"analysis\":{},\"default_analyzer\":\"standard\",\"default_datetime_parser\":\"dateTimeOptional\",\"default_field\":\"_all\",\"default_mapping\":{\"dynamic\":true,\"enabled\":false},\"default_type\":\"_default\",\"docvalues_dynamic\":true,\"index_dynamic\":true,\"store_dynamic\":true,\"type_field\":\"_type\",\"types\":{\"inventory.hotel\":{\"dynamic\":true,\"enabled\":true}}},\"store\":{\"indexType\":\"scorch\",\"segmentVersion\":15}},\"planParams\":{\"indexPartitions\":1,\"maxPartitionsPerPIndex\":1024},\"sourceName\":\"travel-sample\",\"sourceParams\":{},\"sourceType\":\"gocbcore\",\"type\":\"fulltext-index\"},\"status\":\"fail\"}\\n'"
      ]
     },
     "execution_count": 12,
     "metadata": {},
     "output_type": "execute_result"
    }
   ],
   "source": [
    "import requests\n",
    "from requests.auth import HTTPBasicAuth\n",
    "auth = HTTPBasicAuth('Administrator', 'password')\n",
    "url     = 'http://localhost:8094/api/index/ftsindex'\n",
    "payload = '{\"type\":\"fulltext-index\",\"name\":\"ftsindex\",\"sourceType\":\"gocbcore\",\"sourceName\":\"travel-sample\",\"planParams\":{\"maxPartitionsPerPIndex\":1024,\"indexPartitions\":1},\"params\":{\"doc_config\":{\"docid_prefix_delim\":\"\",\"docid_regexp\":\"\",\"mode\":\"scope.collection.type_field\",\"type_field\":\"type\"},\"mapping\":{\"analysis\":{},\"default_analyzer\":\"standard\",\"default_datetime_parser\":\"dateTimeOptional\",\"default_field\":\"_all\",\"default_mapping\":{\"dynamic\":true,\"enabled\":false},\"default_type\":\"_default\",\"docvalues_dynamic\":true,\"index_dynamic\":true,\"store_dynamic\":true,\"type_field\":\"_type\",\"types\":{\"inventory.hotel\":{\"dynamic\":true,\"enabled\":true}}},\"store\":{\"indexType\":\"scorch\",\"segmentVersion\":15}},\"sourceParams\":{}}'\n",
    "headers = {'Content-Type': 'application/json'}\n",
    "res = requests.put(url, data=payload, headers=headers, auth=auth)\n",
    "res.content"
   ]
  },
  {
   "cell_type": "code",
   "execution_count": 13,
   "metadata": {
    "id": "n9umEwd_uLOw"
   },
   "outputs": [],
   "source": [
    "#!\n",
    "#!curl -XPUT -H \"Content-Type: application/json\" -u Administrator:password --insecure https://localhost:18094/api/index/ftsindex -d '{\"type\":\"fulltext-index\",\"name\":\"ftsindex\",\"sourceType\":\"gocbcore\",\"sourceName\":\"travel-sample\",\"planParams\":{\"maxPartitionsPerPIndex\":1024,\"indexPartitions\":1},\"params\":{\"doc_config\":{\"docid_prefix_delim\":\"\",\"docid_regexp\":\"\",\"mode\":\"scope.collection.type_field\",\"type_field\":\"type\"},\"mapping\":{\"analysis\":{},\"default_analyzer\":\"standard\",\"default_datetime_parser\":\"dateTimeOptional\",\"default_field\":\"_all\",\"default_mapping\":{\"dynamic\":true,\"enabled\":false},\"default_type\":\"_default\",\"docvalues_dynamic\":true,\"index_dynamic\":true,\"store_dynamic\":true,\"type_field\":\"_type\",\"types\":{\"inventory.hotel\":{\"dynamic\":true,\"enabled\":true}}},\"store\":{\"indexType\":\"scorch\",\"segmentVersion\":15}},\"sourceParams\":{}}'"
   ]
  },
  {
   "cell_type": "code",
   "execution_count": 14,
   "metadata": {
    "id": "LPLX6xWPfKZp"
   },
   "outputs": [
    {
     "name": "stdout",
     "output_type": "stream",
     "text": [
      "Courtyard by Marriott San Diego Downtown\n",
      "Solvang Gardens Lodge\n",
      "The Lord Jim Hotel\n",
      "Le Bas Manoir\n",
      "Country Hearth Inn\n",
      "Giltar Hotel\n",
      "Petite Auberge\n",
      "Best Western Sonoma Valley Inn\n",
      "Village Hotel\n",
      "Inn at Marina del Rey\n"
     ]
    }
   ],
   "source": [
    "keys = []\n",
    "try:\n",
    "    result = cluster.search_query(\"ftsindex\", QueryStringQuery(\"breakfast\"), SearchOptions(limit=10))\n",
    "\n",
    "    async for row in result.rows():\n",
    "        keys.append(row.id)\n",
    "\n",
    "except CouchbaseException as e:\n",
    "    print(\"Couchbase Error:\"+str(e))\n",
    "except Exception as ex:\n",
    "    print(\"Error:\"+str(ex))\n",
    "except:\n",
    "    print(\"exception:\", sys.exc_info()[0])\n",
    "\n",
    "\n",
    "query = \"\"\"\n",
    "  SELECT h.*\n",
    "  FROM `travel-sample` h\n",
    "  USE KEYS(\"\"\" + str(keys) + \"\"\")\n",
    "\"\"\"\n",
    "\n",
    "result = cluster.query(query)\n",
    "async for row in result:\n",
    "    print(row['name'])"
   ]
  },
  {
   "cell_type": "code",
   "execution_count": null,
   "metadata": {},
   "outputs": [],
   "source": []
  },
  {
   "cell_type": "code",
   "execution_count": 15,
   "metadata": {},
   "outputs": [],
   "source": [
    "result = [row for row in [collection.get(key) for key in keys]]"
   ]
  },
  {
   "cell_type": "code",
   "execution_count": null,
   "metadata": {
    "id": "LPLX6xWPfKZp"
   },
   "outputs": [],
   "source": [
    "%timeit cluster.query(query).execute()"
   ]
  },
  {
   "cell_type": "code",
   "execution_count": null,
   "metadata": {},
   "outputs": [],
   "source": [
    "async def kv_get_async(collection, key):\n",
    "    return await collection.get(key)"
   ]
  },
  {
   "cell_type": "code",
   "execution_count": 19,
   "metadata": {},
   "outputs": [],
   "source": [
    "import asyncio"
   ]
  },
  {
   "cell_type": "code",
   "execution_count": 17,
   "metadata": {},
   "outputs": [],
   "source": [
    "import nest_asyncio\n",
    "nest_asyncio.apply()"
   ]
  },
  {
   "cell_type": "code",
   "execution_count": 20,
   "metadata": {},
   "outputs": [],
   "source": [
    "loop = asyncio.get_event_loop()"
   ]
  },
  {
   "cell_type": "code",
   "execution_count": null,
   "metadata": {},
   "outputs": [],
   "source": []
  },
  {
   "cell_type": "code",
   "execution_count": 21,
   "metadata": {},
   "outputs": [],
   "source": [
    "for key in keys:\n",
    "    loop.run_until_complete(collection.get(key))"
   ]
  },
  {
   "cell_type": "code",
   "execution_count": null,
   "metadata": {},
   "outputs": [],
   "source": []
  }
 ],
 "metadata": {
  "colab": {
   "provenance": []
  },
  "kernelspec": {
   "display_name": "Python 3 (ipykernel)",
   "language": "python",
   "name": "python3"
  },
  "language_info": {
   "codemirror_mode": {
    "name": "ipython",
    "version": 3
   },
   "file_extension": ".py",
   "mimetype": "text/x-python",
   "name": "python",
   "nbconvert_exporter": "python",
   "pygments_lexer": "ipython3",
   "version": "3.10.10"
  }
 },
 "nbformat": 4,
 "nbformat_minor": 1
}
